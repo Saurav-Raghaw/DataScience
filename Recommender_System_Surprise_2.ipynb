{
  "nbformat": 4,
  "nbformat_minor": 0,
  "metadata": {
    "colab": {
      "name": "Recommender System-Surprise-2.ipynb",
      "provenance": [],
      "authorship_tag": "ABX9TyPHpoYSfvIQ1G7VJu1RcY47",
      "include_colab_link": true
    },
    "kernelspec": {
      "name": "python3",
      "display_name": "Python 3"
    },
    "language_info": {
      "name": "python"
    }
  },
  "cells": [
    {
      "cell_type": "markdown",
      "metadata": {
        "id": "view-in-github",
        "colab_type": "text"
      },
      "source": [
        "<a href=\"https://colab.research.google.com/github/Saurav-Raghaw/DataScience/blob/main/Recommender_System_Surprise_2.ipynb\" target=\"_parent\"><img src=\"https://colab.research.google.com/assets/colab-badge.svg\" alt=\"Open In Colab\"/></a>"
      ]
    },
    {
      "cell_type": "code",
      "metadata": {
        "id": "RkB8Pit16wVS"
      },
      "source": [
        "!pip install surprise "
      ],
      "execution_count": null,
      "outputs": []
    },
    {
      "cell_type": "code",
      "metadata": {
        "id": "_Qq568mH5X5J"
      },
      "source": [
        "from surprise import SVD\n",
        "from surprise import Dataset\n",
        "from surprise import accuracy\n",
        "from surprise.model_selection import cross_validate # it only takes a few lines of code to run a cross-validation procedure."
      ],
      "execution_count": 3,
      "outputs": []
    },
    {
      "cell_type": "code",
      "metadata": {
        "colab": {
          "base_uri": "https://localhost:8080/"
        },
        "id": "QVFm2i7Q6uF2",
        "outputId": "ca7d0932-c09a-421a-8654-994babf1681b"
      },
      "source": [
        "# Loading the movielens-100k dataset\n",
        "data = Dataset.load_builtin('ml-100k')"
      ],
      "execution_count": 4,
      "outputs": [
        {
          "output_type": "stream",
          "text": [
            "Dataset ml-100k could not be found. Do you want to download it? [Y/n] Y\n",
            "Trying to download dataset from http://files.grouplens.org/datasets/movielens/ml-100k.zip...\n",
            "Done! Dataset ml-100k has been saved to /root/.surprise_data/ml-100k\n"
          ],
          "name": "stdout"
        }
      ]
    },
    {
      "cell_type": "markdown",
      "metadata": {
        "id": "KCXmx7vE7ToS"
      },
      "source": [
        "#Using prediction algorithmS.\n"
      ]
    },
    {
      "cell_type": "code",
      "metadata": {
        "id": "rhgl2yfV7LnA"
      },
      "source": [
        "from surprise import KNNBasic\n",
        "#algo = KNNBasic()\n",
        "\n",
        "# Some of these algorithms may use baseline estimates, some may use a similarity measure. \n",
        "#We will here review how to configure the way baselines and similarities are computed."
      ],
      "execution_count": 28,
      "outputs": []
    },
    {
      "cell_type": "markdown",
      "metadata": {
        "id": "bsWgZnK379ay"
      },
      "source": [
        "#Baselines estimates configuration.\n",
        "\n",
        "* This section only applies to algorithms (or similarity measures) that try to minimize the following regularized squared error (or equivalent):\n",
        "\n",
        "\n",
        "> $\\sum_{r_{ui} \\in R_{train}} \\left(r_{ui} - (\\mu + b_u + b_i)\\right)^2 +\n",
        "\\lambda \\left(b_u^2 + b_i^2 \\right).$\n",
        "\n",
        "\n",
        "\n",
        "* Baselines can be estimated in two different ways:\n",
        "\n",
        "1. Using Stochastic Gradient Descent (SGD).\n",
        "2. Using Alternating Least Squares (ALS).\n",
        "\n",
        "* For both procedures (ALS and SGD), user and item biases (bu and bi) are initialized to zero.\n",
        "\n",
        "\n",
        "\n"
      ]
    },
    {
      "cell_type": "code",
      "metadata": {
        "id": "3EX6Jj-aAJg2"
      },
      "source": [
        "from surprise import BaselineOnly\n",
        "from surprise.model_selection import train_test_split"
      ],
      "execution_count": 9,
      "outputs": []
    },
    {
      "cell_type": "code",
      "metadata": {
        "id": "XgRmcdnKAmel"
      },
      "source": [
        "# sample random trainset and testset\n",
        "# test set is made of 25% of the ratings.\n",
        "\n",
        "trainset, testset = train_test_split(data, test_size=.25)"
      ],
      "execution_count": 10,
      "outputs": []
    },
    {
      "cell_type": "code",
      "metadata": {
        "colab": {
          "base_uri": "https://localhost:8080/"
        },
        "id": "DbfH0Wdu76pg",
        "outputId": "474bdea3-d557-499b-d322-45f35b6932d5"
      },
      "source": [
        "#Using Alternating Least Squares (ALS).\n",
        "\n",
        "#bsl_options:  configure the way baselines are computed\n",
        "#'method':  indicates the method to use. \n",
        "#'reg_u': The regularization parameter for users. Corresponding to λ3. Default is 15.\n",
        "# 'reg_i': The regularization parameter for items. Corresponding to λ2. Default is 10.\n",
        "# 'n_epochs': The number of iteration of the ALS procedure. Default is 10.\n",
        "\n",
        "print('Using ALS')\n",
        "bsl_options = {'method': 'als',\n",
        "               'n_epochs': 5,\n",
        "               'reg_u': 12,\n",
        "               'reg_i': 5\n",
        "               }\n",
        "algo = BaselineOnly(bsl_options=bsl_options)"
      ],
      "execution_count": 13,
      "outputs": [
        {
          "output_type": "stream",
          "text": [
            "Using ALS\n"
          ],
          "name": "stdout"
        }
      ]
    },
    {
      "cell_type": "code",
      "metadata": {
        "colab": {
          "base_uri": "https://localhost:8080/"
        },
        "id": "dyXHt9Be_93t",
        "outputId": "24238046-c7a4-4a5f-9032-290e2b1dbad0"
      },
      "source": [
        "# train and test algorithm.\n",
        "algo.fit(trainset)\n",
        "predictions = algo.test(testset)\n",
        "\n",
        "# Compute and print Root Mean Squared Error\n",
        "accuracy.rmse(predictions, verbose=True)"
      ],
      "execution_count": 14,
      "outputs": [
        {
          "output_type": "stream",
          "text": [
            "Estimating biases using als...\n",
            "RMSE: 0.9387\n"
          ],
          "name": "stdout"
        },
        {
          "output_type": "execute_result",
          "data": {
            "text/plain": [
              "0.9387206678493552"
            ]
          },
          "metadata": {
            "tags": []
          },
          "execution_count": 14
        }
      ]
    },
    {
      "cell_type": "code",
      "metadata": {
        "colab": {
          "base_uri": "https://localhost:8080/"
        },
        "id": "DlTfloMgASGI",
        "outputId": "601cac0a-34b1-43c1-d538-f7a06a221e1c"
      },
      "source": [
        "#Using Stochastic Gradient Descent (SGD).\n",
        "# 'reg': The regularization parameter of the cost function that is optimized. Default is 0.02.\n",
        "# 'learning_rate': The learning rate of SGD. Default is 0.005.\n",
        "# 'n_epochs': Default is 20.\n",
        "\n",
        "print('Using SGD')\n",
        "bsl_options = {'method': 'sgd',\n",
        "               'learning_rate': .00005,\n",
        "                'reg': 0.04,\n",
        "               'n_epochs': 40\n",
        "               }\n",
        "algo = BaselineOnly(bsl_options=bsl_options)"
      ],
      "execution_count": 25,
      "outputs": [
        {
          "output_type": "stream",
          "text": [
            "Using SGD\n"
          ],
          "name": "stdout"
        }
      ]
    },
    {
      "cell_type": "code",
      "metadata": {
        "colab": {
          "base_uri": "https://localhost:8080/"
        },
        "id": "NM2qKb7pCn46",
        "outputId": "9e4acf46-9fe9-452a-943a-5bb048b51ef9"
      },
      "source": [
        "# train and test algorithm.\n",
        "algo.fit(trainset)\n",
        "predictions = algo.test(testset)\n",
        "\n",
        "# Compute and print Root Mean Squared Error\n",
        "accuracy.rmse(predictions, verbose=True)"
      ],
      "execution_count": 26,
      "outputs": [
        {
          "output_type": "stream",
          "text": [
            "Estimating biases using sgd...\n",
            "RMSE: 1.0534\n"
          ],
          "name": "stdout"
        },
        {
          "output_type": "execute_result",
          "data": {
            "text/plain": [
              "1.053396906817256"
            ]
          },
          "metadata": {
            "tags": []
          },
          "execution_count": 26
        }
      ]
    },
    {
      "cell_type": "code",
      "metadata": {
        "id": "Je5qOHAyCouP"
      },
      "source": [
        "#Some similarity measures may use baselines, such as the pearson_baseline similarity. \n",
        "\n",
        "bsl_options = {'method': 'als',\n",
        "               'n_epochs': 5,\n",
        "               'reg_u': 12,\n",
        "               'reg_i': 5\n",
        "               }\n",
        "sim_options = {'name': 'pearson_baseline'}\n",
        "algo = KNNBasic(bsl_options=bsl_options, sim_options=sim_options)"
      ],
      "execution_count": 29,
      "outputs": []
    },
    {
      "cell_type": "code",
      "metadata": {
        "colab": {
          "base_uri": "https://localhost:8080/"
        },
        "id": "6DI2M5SmD5AR",
        "outputId": "5ff47671-5133-4320-d9c7-d3789fbbafbd"
      },
      "source": [
        "# train and test algorithm.\n",
        "algo.fit(trainset)\n",
        "predictions = algo.test(testset)\n",
        "\n",
        "# Compute and print Root Mean Squared Error\n",
        "accuracy.rmse(predictions, verbose=True)"
      ],
      "execution_count": 30,
      "outputs": [
        {
          "output_type": "stream",
          "text": [
            "Estimating biases using als...\n",
            "Computing the pearson_baseline similarity matrix...\n",
            "Done computing similarity matrix.\n",
            "RMSE: 1.0001\n"
          ],
          "name": "stdout"
        },
        {
          "output_type": "execute_result",
          "data": {
            "text/plain": [
              "1.000137552402814"
            ]
          },
          "metadata": {
            "tags": []
          },
          "execution_count": 30
        }
      ]
    },
    {
      "cell_type": "markdown",
      "metadata": {
        "id": "64Ya1fplGIv3"
      },
      "source": [
        "#Similarity measure configuration.\n",
        "\n",
        "* Same as baseline rconfiguration: we just need to pass a sim_options argument at the creation of an algorithm. \n",
        "\n",
        "\n"
      ]
    },
    {
      "cell_type": "code",
      "metadata": {
        "id": "-V5_u6K4EMqc"
      },
      "source": [
        "#'name': The name of the similarity to use. Default is 'MSD'.\n",
        "#'user_based': Whether similarities will be computed between users or between items. \n",
        "               #This has a huge impact on the performance of a prediction algorithm. Default is True.\n",
        "\n",
        "#'min_support': The minimum number of common items (when 'user_based' is 'True') or minimum number of common users (when 'user_based' is 'False') \n",
        "#for the similarity not to be zero. Simply put, if |Iuv|<min_support then sim(u,v)=0. The same goes for items.\n",
        "\n",
        "#'shrinkage': Shrinkage parameter to apply (only relevant for pearson_baseline similarity). Default is 100.\n",
        "\n",
        "sim_options = {'name': 'cosine',\n",
        "               'user_based': False  # compute  similarities between items\n",
        "               }\n",
        "algo = KNNBasic(sim_options=sim_options)"
      ],
      "execution_count": 31,
      "outputs": []
    },
    {
      "cell_type": "code",
      "metadata": {
        "colab": {
          "base_uri": "https://localhost:8080/"
        },
        "id": "I4SpFxmlEMmJ",
        "outputId": "2fe34b96-416f-4b25-a9e8-76f8fcc180c8"
      },
      "source": [
        "# train and test algorithm.\n",
        "algo.fit(trainset)\n",
        "predictions = algo.test(testset)\n",
        "\n",
        "# Compute and print Root Mean Squared Error\n",
        "accuracy.rmse(predictions, verbose=True)"
      ],
      "execution_count": 32,
      "outputs": [
        {
          "output_type": "stream",
          "text": [
            "Computing the cosine similarity matrix...\n",
            "Done computing similarity matrix.\n",
            "RMSE: 1.0307\n"
          ],
          "name": "stdout"
        },
        {
          "output_type": "execute_result",
          "data": {
            "text/plain": [
              "1.030707229676026"
            ]
          },
          "metadata": {
            "tags": []
          },
          "execution_count": 32
        }
      ]
    },
    {
      "cell_type": "code",
      "metadata": {
        "id": "7tK1wdyIKcAk"
      },
      "source": [
        "sim_options = {'name': 'pearson_baseline',\n",
        "               'shrinkage': 0  # no shrinkage\n",
        "               }\n",
        "algo = KNNBasic(sim_options=sim_options)"
      ],
      "execution_count": 35,
      "outputs": []
    },
    {
      "cell_type": "code",
      "metadata": {
        "colab": {
          "base_uri": "https://localhost:8080/"
        },
        "id": "sUVBs7OVKhvM",
        "outputId": "8a4397d7-d8bd-44b2-a12a-d415efdb23b0"
      },
      "source": [
        "# train and test algorithm.\n",
        "algo.fit(trainset)\n",
        "predictions = algo.test(testset)\n",
        "\n",
        "# Compute and print Root Mean Squared Error\n",
        "accuracy.rmse(predictions, verbose=True)"
      ],
      "execution_count": 36,
      "outputs": [
        {
          "output_type": "stream",
          "text": [
            "Estimating biases using als...\n",
            "Computing the pearson_baseline similarity matrix...\n",
            "Done computing similarity matrix.\n",
            "RMSE: 1.0076\n"
          ],
          "name": "stdout"
        },
        {
          "output_type": "execute_result",
          "data": {
            "text/plain": [
              "1.007640430461604"
            ]
          },
          "metadata": {
            "tags": []
          },
          "execution_count": 36
        }
      ]
    },
    {
      "cell_type": "markdown",
      "metadata": {
        "id": "-ew5Cfn9Kx2d"
      },
      "source": [
        "#similarities module\n",
        "##1. cosine: \tCompute the cosine similarity between all pairs of users (or items).\n",
        "\n",
        "Only common users (or items) are taken into account. The cosine similarity is defined as:\n",
        "\n",
        "$\\text{cosine_sim}(u, v) = \\frac{\n",
        "\\sum\\limits_{i \\in I_{uv}} r_{ui} \\cdot r_{vi}}\n",
        "{\\sqrt{\\sum\\limits_{i \\in I_{uv}} r_{ui}^2} \\cdot\n",
        "\\sqrt{\\sum\\limits_{i \\in I_{uv}} r_{vi}^2}\n",
        "}$\n",
        "\n",
        "\n",
        "$\\text{cosine_sim}(i, j) = \\frac{\n",
        "\\sum\\limits_{u \\in U_{ij}} r_{ui} \\cdot r_{uj}}\n",
        "{\\sqrt{\\sum\\limits_{u \\in U_{ij}} r_{ui}^2} \\cdot\n",
        "\\sqrt{\\sum\\limits_{u \\in U_{ij}} r_{uj}^2}\n",
        "}$\n",
        "\n",
        "##2. msd: \tCompute the Mean Squared Difference similarity between all pairs of users (or items).\n",
        "\n",
        "Only common users (or items) are taken into account. The Mean Squared Difference is defined as:\n",
        "\n",
        "$\\text{msd}(u, v) = \\frac{1}{|I_{uv}|} \\cdot\n",
        "\\sum\\limits_{i \\in I_{uv}} (r_{ui} - r_{vi})^2$\n",
        "\n",
        "$\\text{msd}(i, j) = \\frac{1}{|U_{ij}|} \\cdot\n",
        "\\sum\\limits_{u \\in U_{ij}} (r_{ui} - r_{uj})^2$\n",
        "\n",
        "The MSD-similarity is then defined as:\n",
        "\n",
        "$\\begin{split}\\text{msd_sim}(u, v) &= \\frac{1}{\\text{msd}(u, v) + 1}\\\\\n",
        "\\text{msd_sim}(i, j) &= \\frac{1}{\\text{msd}(i, j) + 1}\\end{split}$\n",
        "* The +1 term is just here to avoid dividing by zero.\n",
        "\n",
        "##3. pearson(): Compute the Pearson correlation coefficient between all pairs of users (or items).\n",
        "\n",
        "Only common users (or items) are taken into account. The Pearson correlation coefficient can be seen as a mean-centered cosine similarity, and is defined as:\n",
        "\n",
        "$\\text{pearson_sim}(u, v) = \\frac{ \\sum\\limits_{i \\in I_{uv}}\n",
        "(r_{ui} -  \\mu_u) \\cdot (r_{vi} - \\mu_{v})} {\\sqrt{\\sum\\limits_{i\n",
        "\\in I_{uv}} (r_{ui} -  \\mu_u)^2} \\cdot \\sqrt{\\sum\\limits_{i \\in\n",
        "I_{uv}} (r_{vi} -  \\mu_{v})^2} }$\n",
        "\n",
        "$\\text{pearson_sim}(i, j) = \\frac{ \\sum\\limits_{u \\in U_{ij}}\n",
        "(r_{ui} -  \\mu_i) \\cdot (r_{uj} - \\mu_{j})} {\\sqrt{\\sum\\limits_{u\n",
        "\\in U_{ij}} (r_{ui} -  \\mu_i)^2} \\cdot \\sqrt{\\sum\\limits_{u \\in\n",
        "U_{ij}} (r_{uj} -  \\mu_{j})^2} }$\n",
        "\n",
        "* Note: if there are no common users or items, similarity will be 0 (and not -1).\n",
        "\n",
        "##4. pearson_baseline(): "
      ]
    }
  ]
}