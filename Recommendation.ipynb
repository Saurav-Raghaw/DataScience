{
  "nbformat": 4,
  "nbformat_minor": 0,
  "metadata": {
    "colab": {
      "name": "Recommendation.ipynb",
      "provenance": [],
      "include_colab_link": true
    },
    "kernelspec": {
      "name": "python3",
      "display_name": "Python 3"
    },
    "language_info": {
      "name": "python"
    }
  },
  "cells": [
    {
      "cell_type": "markdown",
      "metadata": {
        "id": "view-in-github",
        "colab_type": "text"
      },
      "source": [
        "<a href=\"https://colab.research.google.com/github/Saurav-Raghaw/DataScience/blob/main/Recommendation.ipynb\" target=\"_parent\"><img src=\"https://colab.research.google.com/assets/colab-badge.svg\" alt=\"Open In Colab\"/></a>"
      ]
    },
    {
      "cell_type": "markdown",
      "metadata": {
        "id": "XA7WX68T6JDZ"
      },
      "source": [
        "#Recommender system from scratch.\n",
        "\n",
        "1. What is a Recommender System?\n",
        "* A recommender system is an information filtering system that seeks to predicts the rating given by a user to an item. This predicted rating then used to recommend items to the user. The item for which the predicted rating is high will be recommended to the user. \n",
        "\n",
        "* This recommender system is utilized in recommendation of a broad range of items. For instance, it can be used to recommend movies, products, videos, music, books, news, Facebook friends, clothes, Twitter pages, Android/ios apps, hotels, restaurants, routes etc.\n",
        "\n",
        "* It is used by almost all of the major companies to enhance their business and to enrich user experience like YouTube for recommending videos, Amazon & Ebay for recommending products, Netflix for recommending Movies, Airbnb for recommending rooms and hotels, Facebook for recommending friends etc."
      ]
    },
    {
      "cell_type": "markdown",
      "metadata": {
        "id": "QP_62zBBCZD9"
      },
      "source": [
        "2. What is use-item matrix?\n",
        "\n",
        "* In USER-ITEM matrix, each row represents a user and each column represents an item and each cell represents rating given by a user to an item.\n",
        "\n",
        "* USER-ITEM matrix is very sparse matrix, which means that many cells in this matrix are empty. Since, there are many items, and a single user cannot give rating to all of the items. In real-world, a single user does not give ratings to even 1% of the total items. Therefore, around 99% of the cells of this matrix are empty.\n",
        "\n"
      ]
    },
    {
      "cell_type": "markdown",
      "metadata": {
        "id": "gP_Q5VE_FuGj"
      },
      "source": [
        "3. How to calculate the sparsity of the USER-ITEM matrix?\n",
        "\n",
        "* Sparsity of Matrix = Number of Empty cells / Total Number of cells.\n"
      ]
    },
    {
      "cell_type": "markdown",
      "metadata": {
        "id": "bAmiUNY-GVv2"
      },
      "source": [
        "4. So, What is the main task of RS?(Recommendation System)\n",
        "* As we explained, if there is a user Ui who likes item I1, I5, I7 (Columns in USER-ITEM matrix). Then we have to recommend user Ui an item Ij, which he/she will most probably like."
      ]
    },
    {
      "cell_type": "markdown",
      "metadata": {
        "id": "o5MwYX_0Kpf3"
      },
      "source": [
        "5. How many types of RS?\n",
        "\n",
        "```\n",
        "1. Collaborative Filtering\n",
        "2. Content Based Filtering\n",
        "3. Similarity Based Filtering\n",
        "4. Matrix Factorization\n",
        "```"
      ]
    },
    {
      "cell_type": "markdown",
      "metadata": {
        "id": "pYLMgD4wLPIG"
      },
      "source": [
        "6. How Collaborative Filtering works?\n",
        "\n",
        "* Collaborative filtering RS works with the collaboration of users. If there are many users who liked some item then that item can be recommended to that user who hasn’t seen that item yet.\n",
        "\n",
        "* Let say there are four users and four items. All four users bought Item-1 and Item-2. USER-1, USER -2 and USER -3 bought Item-3 also but USER-4 hasn’t seen Item-3 yet. So, Item-3 can be recommended to USER -4.\n",
        "* So the Core-idea/assumption here is that the users who have agreed in the past tend to also agree in the future.\n",
        "\n",
        "* If above assumption does not hold true then collaborative based filtering RS cannot be build.\n"
      ]
    },
    {
      "cell_type": "markdown",
      "metadata": {
        "id": "zds_IUOLa3Nu"
      },
      "source": [
        "7.  How contebt based Filtering works?\n",
        "*  Content based filtering is similar in approach with classical machine learning techniques. It needs a way to represent an item Ij and a user Ui. Here, we need to collect information about an item Ij and a user Ui then finally we need to create features of both user Ui and Ij. Then we combine those features and feed them to a Machine Learning model for training. Here, label will be Aij, which is the corresponding rating given by a user Ui on item Ij."
      ]
    },
    {
      "cell_type": "markdown",
      "metadata": {
        "id": "SC7bi4GzRct3"
      },
      "source": [
        "8. Similarity Based\n",
        "\n",
        "There are broadly two types of similarity based approaches:\n",
        "* USER-USER SIMILARITY\n",
        "* ITEM-ITEM SIMILARITY\n",
        "\n",
        "Note: As a rule of thumb, when we have more users than items and when item ratings do not change much over time after the initial period then ITEM-ITEM similarity based RS is preferable over USER-USER based RS."
      ]
    },
    {
      "cell_type": "markdown",
      "metadata": {
        "id": "oTwI1zthUjFK"
      },
      "source": [
        "9. Matrix Factorization.\n",
        "[Here](https://medium.datadriveninvestor.com/how-to-built-a-recommender-system-rs-616c988d64b2)"
      ]
    },
    {
      "cell_type": "markdown",
      "metadata": {
        "id": "-wjCYW3KhsaK"
      },
      "source": [
        "#We will work on the MovieLens dataset and build a model to recommend movies to the end users. "
      ]
    },
    {
      "cell_type": "markdown",
      "metadata": {
        "id": "jElDc4BOhwuU"
      },
      "source": [
        "Dataset Description: MovieLens data set.\n",
        "\n",
        "This data set consists of:\n",
        "* 100,000 ratings (1-5) from 943 users on 1682 movies. \n",
        "* Each user has rated at least 20 movies. \n",
        "* Simple demographic info for the users (age, gender, occupation, zip)\n",
        "\n",
        "Acknowledgements: \n",
        "\n",
        "The dataset was downloaded from https://grouplens.org/datasets/movielens/100k/\n"
      ]
    },
    {
      "cell_type": "markdown",
      "metadata": {
        "id": "USLRp5cfjOsh"
      },
      "source": [
        "#Importing Liabraries.\n"
      ]
    },
    {
      "cell_type": "code",
      "metadata": {
        "id": "DuRKcKJNjWMt"
      },
      "source": [
        "import pandas as pd\n",
        "import matplotlib.pyplot as plt\n",
        "import numpy as np"
      ],
      "execution_count": null,
      "outputs": []
    },
    {
      "cell_type": "markdown",
      "metadata": {
        "id": "JzbcOBqfoVE8"
      },
      "source": [
        "##1.Loading the Dataset."
      ]
    },
    {
      "cell_type": "code",
      "metadata": {
        "colab": {
          "base_uri": "https://localhost:8080/",
          "height": 204
        },
        "id": "ljisUAQhoaJw",
        "outputId": "9ab62487-3a69-4eb7-94d5-03bb0572c2c5"
      },
      "source": [
        "#Passing the column names for each CSV as the column name is not given in the file and read them using pandas.\n",
        "#Reading users file:\n",
        "\n",
        "u_cols = ['user_id', 'age', 'sex', 'occupation', 'zip_code']\n",
        "\n",
        "users = pd.read_csv('u.user', sep='|', names=u_cols,encoding='latin-1')\n",
        "\n",
        "users.head()"
      ],
      "execution_count": null,
      "outputs": [
        {
          "output_type": "execute_result",
          "data": {
            "text/html": [
              "<div>\n",
              "<style scoped>\n",
              "    .dataframe tbody tr th:only-of-type {\n",
              "        vertical-align: middle;\n",
              "    }\n",
              "\n",
              "    .dataframe tbody tr th {\n",
              "        vertical-align: top;\n",
              "    }\n",
              "\n",
              "    .dataframe thead th {\n",
              "        text-align: right;\n",
              "    }\n",
              "</style>\n",
              "<table border=\"1\" class=\"dataframe\">\n",
              "  <thead>\n",
              "    <tr style=\"text-align: right;\">\n",
              "      <th></th>\n",
              "      <th>user_id</th>\n",
              "      <th>age</th>\n",
              "      <th>sex</th>\n",
              "      <th>occupation</th>\n",
              "      <th>zip_code</th>\n",
              "    </tr>\n",
              "  </thead>\n",
              "  <tbody>\n",
              "    <tr>\n",
              "      <th>0</th>\n",
              "      <td>1</td>\n",
              "      <td>24</td>\n",
              "      <td>M</td>\n",
              "      <td>technician</td>\n",
              "      <td>85711</td>\n",
              "    </tr>\n",
              "    <tr>\n",
              "      <th>1</th>\n",
              "      <td>2</td>\n",
              "      <td>53</td>\n",
              "      <td>F</td>\n",
              "      <td>other</td>\n",
              "      <td>94043</td>\n",
              "    </tr>\n",
              "    <tr>\n",
              "      <th>2</th>\n",
              "      <td>3</td>\n",
              "      <td>23</td>\n",
              "      <td>M</td>\n",
              "      <td>writer</td>\n",
              "      <td>32067</td>\n",
              "    </tr>\n",
              "    <tr>\n",
              "      <th>3</th>\n",
              "      <td>4</td>\n",
              "      <td>24</td>\n",
              "      <td>M</td>\n",
              "      <td>technician</td>\n",
              "      <td>43537</td>\n",
              "    </tr>\n",
              "    <tr>\n",
              "      <th>4</th>\n",
              "      <td>5</td>\n",
              "      <td>33</td>\n",
              "      <td>F</td>\n",
              "      <td>other</td>\n",
              "      <td>15213</td>\n",
              "    </tr>\n",
              "  </tbody>\n",
              "</table>\n",
              "</div>"
            ],
            "text/plain": [
              "   user_id  age sex  occupation zip_code\n",
              "0        1   24   M  technician    85711\n",
              "1        2   53   F       other    94043\n",
              "2        3   23   M      writer    32067\n",
              "3        4   24   M  technician    43537\n",
              "4        5   33   F       other    15213"
            ]
          },
          "metadata": {
            "tags": []
          },
          "execution_count": 13
        }
      ]
    },
    {
      "cell_type": "code",
      "metadata": {
        "colab": {
          "base_uri": "https://localhost:8080/"
        },
        "id": "XWlbyw4OFUSW",
        "outputId": "172aec80-007b-4499-8fe4-f34f7588c311"
      },
      "source": [
        "print(users.shape)\n",
        "print(users.dtypes)\n",
        "print(users.info())"
      ],
      "execution_count": null,
      "outputs": [
        {
          "output_type": "stream",
          "text": [
            "(943, 5)\n",
            "user_id        int64\n",
            "age            int64\n",
            "sex           object\n",
            "occupation    object\n",
            "zip_code      object\n",
            "dtype: object\n",
            "<class 'pandas.core.frame.DataFrame'>\n",
            "RangeIndex: 943 entries, 0 to 942\n",
            "Data columns (total 5 columns):\n",
            " #   Column      Non-Null Count  Dtype \n",
            "---  ------      --------------  ----- \n",
            " 0   user_id     943 non-null    int64 \n",
            " 1   age         943 non-null    int64 \n",
            " 2   sex         943 non-null    object\n",
            " 3   occupation  943 non-null    object\n",
            " 4   zip_code    943 non-null    object\n",
            "dtypes: int64(2), object(3)\n",
            "memory usage: 37.0+ KB\n",
            "None\n"
          ],
          "name": "stdout"
        }
      ]
    },
    {
      "cell_type": "code",
      "metadata": {
        "colab": {
          "base_uri": "https://localhost:8080/",
          "height": 204
        },
        "id": "AG7UfJDAoej5",
        "outputId": "82f0d8ed-1711-4a8d-92c8-f19b21b3d339"
      },
      "source": [
        "#Reading ratings file:\n",
        "\n",
        "r_cols = ['user_id', 'movie_id', 'rating', 'unix_timestamp']\n",
        "\n",
        "ratings = pd.read_csv('u.data', sep='\\t', names=r_cols,encoding='latin-1')\n",
        "\n",
        "#column names from the readme file.\n",
        "\n",
        "ratings.head()"
      ],
      "execution_count": null,
      "outputs": [
        {
          "output_type": "execute_result",
          "data": {
            "text/html": [
              "<div>\n",
              "<style scoped>\n",
              "    .dataframe tbody tr th:only-of-type {\n",
              "        vertical-align: middle;\n",
              "    }\n",
              "\n",
              "    .dataframe tbody tr th {\n",
              "        vertical-align: top;\n",
              "    }\n",
              "\n",
              "    .dataframe thead th {\n",
              "        text-align: right;\n",
              "    }\n",
              "</style>\n",
              "<table border=\"1\" class=\"dataframe\">\n",
              "  <thead>\n",
              "    <tr style=\"text-align: right;\">\n",
              "      <th></th>\n",
              "      <th>user_id</th>\n",
              "      <th>movie_id</th>\n",
              "      <th>rating</th>\n",
              "      <th>unix_timestamp</th>\n",
              "    </tr>\n",
              "  </thead>\n",
              "  <tbody>\n",
              "    <tr>\n",
              "      <th>0</th>\n",
              "      <td>196</td>\n",
              "      <td>242</td>\n",
              "      <td>3</td>\n",
              "      <td>881250949</td>\n",
              "    </tr>\n",
              "    <tr>\n",
              "      <th>1</th>\n",
              "      <td>186</td>\n",
              "      <td>302</td>\n",
              "      <td>3</td>\n",
              "      <td>891717742</td>\n",
              "    </tr>\n",
              "    <tr>\n",
              "      <th>2</th>\n",
              "      <td>22</td>\n",
              "      <td>377</td>\n",
              "      <td>1</td>\n",
              "      <td>878887116</td>\n",
              "    </tr>\n",
              "    <tr>\n",
              "      <th>3</th>\n",
              "      <td>244</td>\n",
              "      <td>51</td>\n",
              "      <td>2</td>\n",
              "      <td>880606923</td>\n",
              "    </tr>\n",
              "    <tr>\n",
              "      <th>4</th>\n",
              "      <td>166</td>\n",
              "      <td>346</td>\n",
              "      <td>1</td>\n",
              "      <td>886397596</td>\n",
              "    </tr>\n",
              "  </tbody>\n",
              "</table>\n",
              "</div>"
            ],
            "text/plain": [
              "   user_id  movie_id  rating  unix_timestamp\n",
              "0      196       242       3       881250949\n",
              "1      186       302       3       891717742\n",
              "2       22       377       1       878887116\n",
              "3      244        51       2       880606923\n",
              "4      166       346       1       886397596"
            ]
          },
          "metadata": {
            "tags": []
          },
          "execution_count": 20
        }
      ]
    },
    {
      "cell_type": "code",
      "metadata": {
        "colab": {
          "base_uri": "https://localhost:8080/"
        },
        "id": "mHmsOROlGAzU",
        "outputId": "9780e673-ad05-44c9-dfa3-02f6be08a56e"
      },
      "source": [
        "print(ratings.shape)\n",
        "print(ratings.dtypes)\n",
        "print(ratings.info())"
      ],
      "execution_count": null,
      "outputs": [
        {
          "output_type": "stream",
          "text": [
            "(100000, 4)\n",
            "user_id           int64\n",
            "movie_id          int64\n",
            "rating            int64\n",
            "unix_timestamp    int64\n",
            "dtype: object\n",
            "<class 'pandas.core.frame.DataFrame'>\n",
            "RangeIndex: 100000 entries, 0 to 99999\n",
            "Data columns (total 4 columns):\n",
            " #   Column          Non-Null Count   Dtype\n",
            "---  ------          --------------   -----\n",
            " 0   user_id         100000 non-null  int64\n",
            " 1   movie_id        100000 non-null  int64\n",
            " 2   rating          100000 non-null  int64\n",
            " 3   unix_timestamp  100000 non-null  int64\n",
            "dtypes: int64(4)\n",
            "memory usage: 3.1 MB\n",
            "None\n"
          ],
          "name": "stdout"
        }
      ]
    },
    {
      "cell_type": "code",
      "metadata": {
        "colab": {
          "base_uri": "https://localhost:8080/",
          "height": 377
        },
        "id": "HwDS2cGEENoU",
        "outputId": "c6fd5018-a7ea-4eda-b3f3-644406bc60f6"
      },
      "source": [
        "#Reading items file:\n",
        "i_cols = ['movie id', 'movie title' ,'release date','video release date', 'IMDb URL', 'unknown', 'Action', 'Adventure',\n",
        "'Animation', 'Children\\'s', 'Comedy', 'Crime', 'Documentary', 'Drama', 'Fantasy', 'Film-Noir', 'Horror', 'Musical', 'Mystery', 'Romance', \n",
        "'Sci-Fi', 'Thriller', 'War', 'Western']\n",
        "\n",
        "items = pd.read_csv('u.item', sep='|', names=i_cols,encoding='latin-1')\n",
        "\n",
        "items.head()"
      ],
      "execution_count": null,
      "outputs": [
        {
          "output_type": "execute_result",
          "data": {
            "text/html": [
              "<div>\n",
              "<style scoped>\n",
              "    .dataframe tbody tr th:only-of-type {\n",
              "        vertical-align: middle;\n",
              "    }\n",
              "\n",
              "    .dataframe tbody tr th {\n",
              "        vertical-align: top;\n",
              "    }\n",
              "\n",
              "    .dataframe thead th {\n",
              "        text-align: right;\n",
              "    }\n",
              "</style>\n",
              "<table border=\"1\" class=\"dataframe\">\n",
              "  <thead>\n",
              "    <tr style=\"text-align: right;\">\n",
              "      <th></th>\n",
              "      <th>movie id</th>\n",
              "      <th>movie title</th>\n",
              "      <th>release date</th>\n",
              "      <th>video release date</th>\n",
              "      <th>IMDb URL</th>\n",
              "      <th>unknown</th>\n",
              "      <th>Action</th>\n",
              "      <th>Adventure</th>\n",
              "      <th>Animation</th>\n",
              "      <th>Children's</th>\n",
              "      <th>Comedy</th>\n",
              "      <th>Crime</th>\n",
              "      <th>Documentary</th>\n",
              "      <th>Drama</th>\n",
              "      <th>Fantasy</th>\n",
              "      <th>Film-Noir</th>\n",
              "      <th>Horror</th>\n",
              "      <th>Musical</th>\n",
              "      <th>Mystery</th>\n",
              "      <th>Romance</th>\n",
              "      <th>Sci-Fi</th>\n",
              "      <th>Thriller</th>\n",
              "      <th>War</th>\n",
              "      <th>Western</th>\n",
              "    </tr>\n",
              "  </thead>\n",
              "  <tbody>\n",
              "    <tr>\n",
              "      <th>0</th>\n",
              "      <td>1</td>\n",
              "      <td>Toy Story (1995)</td>\n",
              "      <td>01-Jan-1995</td>\n",
              "      <td>NaN</td>\n",
              "      <td>http://us.imdb.com/M/title-exact?Toy%20Story%2...</td>\n",
              "      <td>0</td>\n",
              "      <td>0</td>\n",
              "      <td>0</td>\n",
              "      <td>1</td>\n",
              "      <td>1</td>\n",
              "      <td>1</td>\n",
              "      <td>0</td>\n",
              "      <td>0</td>\n",
              "      <td>0</td>\n",
              "      <td>0</td>\n",
              "      <td>0</td>\n",
              "      <td>0</td>\n",
              "      <td>0</td>\n",
              "      <td>0</td>\n",
              "      <td>0</td>\n",
              "      <td>0</td>\n",
              "      <td>0</td>\n",
              "      <td>0</td>\n",
              "      <td>0</td>\n",
              "    </tr>\n",
              "    <tr>\n",
              "      <th>1</th>\n",
              "      <td>2</td>\n",
              "      <td>GoldenEye (1995)</td>\n",
              "      <td>01-Jan-1995</td>\n",
              "      <td>NaN</td>\n",
              "      <td>http://us.imdb.com/M/title-exact?GoldenEye%20(...</td>\n",
              "      <td>0</td>\n",
              "      <td>1</td>\n",
              "      <td>1</td>\n",
              "      <td>0</td>\n",
              "      <td>0</td>\n",
              "      <td>0</td>\n",
              "      <td>0</td>\n",
              "      <td>0</td>\n",
              "      <td>0</td>\n",
              "      <td>0</td>\n",
              "      <td>0</td>\n",
              "      <td>0</td>\n",
              "      <td>0</td>\n",
              "      <td>0</td>\n",
              "      <td>0</td>\n",
              "      <td>0</td>\n",
              "      <td>1</td>\n",
              "      <td>0</td>\n",
              "      <td>0</td>\n",
              "    </tr>\n",
              "    <tr>\n",
              "      <th>2</th>\n",
              "      <td>3</td>\n",
              "      <td>Four Rooms (1995)</td>\n",
              "      <td>01-Jan-1995</td>\n",
              "      <td>NaN</td>\n",
              "      <td>http://us.imdb.com/M/title-exact?Four%20Rooms%...</td>\n",
              "      <td>0</td>\n",
              "      <td>0</td>\n",
              "      <td>0</td>\n",
              "      <td>0</td>\n",
              "      <td>0</td>\n",
              "      <td>0</td>\n",
              "      <td>0</td>\n",
              "      <td>0</td>\n",
              "      <td>0</td>\n",
              "      <td>0</td>\n",
              "      <td>0</td>\n",
              "      <td>0</td>\n",
              "      <td>0</td>\n",
              "      <td>0</td>\n",
              "      <td>0</td>\n",
              "      <td>0</td>\n",
              "      <td>1</td>\n",
              "      <td>0</td>\n",
              "      <td>0</td>\n",
              "    </tr>\n",
              "    <tr>\n",
              "      <th>3</th>\n",
              "      <td>4</td>\n",
              "      <td>Get Shorty (1995)</td>\n",
              "      <td>01-Jan-1995</td>\n",
              "      <td>NaN</td>\n",
              "      <td>http://us.imdb.com/M/title-exact?Get%20Shorty%...</td>\n",
              "      <td>0</td>\n",
              "      <td>1</td>\n",
              "      <td>0</td>\n",
              "      <td>0</td>\n",
              "      <td>0</td>\n",
              "      <td>1</td>\n",
              "      <td>0</td>\n",
              "      <td>0</td>\n",
              "      <td>1</td>\n",
              "      <td>0</td>\n",
              "      <td>0</td>\n",
              "      <td>0</td>\n",
              "      <td>0</td>\n",
              "      <td>0</td>\n",
              "      <td>0</td>\n",
              "      <td>0</td>\n",
              "      <td>0</td>\n",
              "      <td>0</td>\n",
              "      <td>0</td>\n",
              "    </tr>\n",
              "    <tr>\n",
              "      <th>4</th>\n",
              "      <td>5</td>\n",
              "      <td>Copycat (1995)</td>\n",
              "      <td>01-Jan-1995</td>\n",
              "      <td>NaN</td>\n",
              "      <td>http://us.imdb.com/M/title-exact?Copycat%20(1995)</td>\n",
              "      <td>0</td>\n",
              "      <td>0</td>\n",
              "      <td>0</td>\n",
              "      <td>0</td>\n",
              "      <td>0</td>\n",
              "      <td>0</td>\n",
              "      <td>1</td>\n",
              "      <td>0</td>\n",
              "      <td>1</td>\n",
              "      <td>0</td>\n",
              "      <td>0</td>\n",
              "      <td>0</td>\n",
              "      <td>0</td>\n",
              "      <td>0</td>\n",
              "      <td>0</td>\n",
              "      <td>0</td>\n",
              "      <td>1</td>\n",
              "      <td>0</td>\n",
              "      <td>0</td>\n",
              "    </tr>\n",
              "  </tbody>\n",
              "</table>\n",
              "</div>"
            ],
            "text/plain": [
              "   movie id        movie title release date  ...  Thriller War  Western\n",
              "0         1   Toy Story (1995)  01-Jan-1995  ...         0   0        0\n",
              "1         2   GoldenEye (1995)  01-Jan-1995  ...         1   0        0\n",
              "2         3  Four Rooms (1995)  01-Jan-1995  ...         1   0        0\n",
              "3         4  Get Shorty (1995)  01-Jan-1995  ...         0   0        0\n",
              "4         5     Copycat (1995)  01-Jan-1995  ...         1   0        0\n",
              "\n",
              "[5 rows x 24 columns]"
            ]
          },
          "metadata": {
            "tags": []
          },
          "execution_count": 22
        }
      ]
    },
    {
      "cell_type": "code",
      "metadata": {
        "colab": {
          "base_uri": "https://localhost:8080/"
        },
        "id": "vyzgljTXE2QB",
        "outputId": "eb81d6b1-6125-45bf-c290-e86314622a1b"
      },
      "source": [
        "print(items.shape)\n",
        "print(items.dtypes)\n",
        "print(items.info())"
      ],
      "execution_count": null,
      "outputs": [
        {
          "output_type": "stream",
          "text": [
            "(1682, 24)\n",
            "movie id                int64\n",
            "movie title            object\n",
            "release date           object\n",
            "video release date    float64\n",
            "IMDb URL               object\n",
            "unknown                 int64\n",
            "Action                  int64\n",
            "Adventure               int64\n",
            "Animation               int64\n",
            "Children's              int64\n",
            "Comedy                  int64\n",
            "Crime                   int64\n",
            "Documentary             int64\n",
            "Drama                   int64\n",
            "Fantasy                 int64\n",
            "Film-Noir               int64\n",
            "Horror                  int64\n",
            "Musical                 int64\n",
            "Mystery                 int64\n",
            "Romance                 int64\n",
            "Sci-Fi                  int64\n",
            "Thriller                int64\n",
            "War                     int64\n",
            "Western                 int64\n",
            "dtype: object\n",
            "<class 'pandas.core.frame.DataFrame'>\n",
            "RangeIndex: 1682 entries, 0 to 1681\n",
            "Data columns (total 24 columns):\n",
            " #   Column              Non-Null Count  Dtype  \n",
            "---  ------              --------------  -----  \n",
            " 0   movie id            1682 non-null   int64  \n",
            " 1   movie title         1682 non-null   object \n",
            " 2   release date        1681 non-null   object \n",
            " 3   video release date  0 non-null      float64\n",
            " 4   IMDb URL            1679 non-null   object \n",
            " 5   unknown             1682 non-null   int64  \n",
            " 6   Action              1682 non-null   int64  \n",
            " 7   Adventure           1682 non-null   int64  \n",
            " 8   Animation           1682 non-null   int64  \n",
            " 9   Children's          1682 non-null   int64  \n",
            " 10  Comedy              1682 non-null   int64  \n",
            " 11  Crime               1682 non-null   int64  \n",
            " 12  Documentary         1682 non-null   int64  \n",
            " 13  Drama               1682 non-null   int64  \n",
            " 14  Fantasy             1682 non-null   int64  \n",
            " 15  Film-Noir           1682 non-null   int64  \n",
            " 16  Horror              1682 non-null   int64  \n",
            " 17  Musical             1682 non-null   int64  \n",
            " 18  Mystery             1682 non-null   int64  \n",
            " 19  Romance             1682 non-null   int64  \n",
            " 20  Sci-Fi              1682 non-null   int64  \n",
            " 21  Thriller            1682 non-null   int64  \n",
            " 22  War                 1682 non-null   int64  \n",
            " 23  Western             1682 non-null   int64  \n",
            "dtypes: float64(1), int64(20), object(3)\n",
            "memory usage: 315.5+ KB\n",
            "None\n"
          ],
          "name": "stdout"
        }
      ]
    },
    {
      "cell_type": "markdown",
      "metadata": {
        "id": "mASsf8nDG7e4"
      },
      "source": [
        "* video release date, IMDB URL and release date has missing values.\n",
        "\n",
        "* This dataset contains attributes of 1682 movies. There are 24 columns out of which last 19 columns specify the genre of a particular movie. These are binary columns, i.e., a value of 1 denotes that the movie belongs to that genre, and 0 otherwise."
      ]
    },
    {
      "cell_type": "markdown",
      "metadata": {
        "id": "Vu5-sq64Irtx"
      },
      "source": [
        "#2. Train Set and Test Set.\n",
        "* The dataset has already been divided into train and test by GroupLens where the test data has 10 ratings for each user, i.e. 9,430 rows in total. "
      ]
    },
    {
      "cell_type": "code",
      "metadata": {
        "colab": {
          "base_uri": "https://localhost:8080/"
        },
        "id": "olu3hsg-Gkih",
        "outputId": "f8449fa2-9981-4bdc-9b89-288550f35252"
      },
      "source": [
        "#Reading the train and Test set.\n",
        "\n",
        "ratings_train = pd.read_csv('ua.base', sep='\\t', names=r_cols, encoding='latin-1')\n",
        "\n",
        "ratings_test = pd.read_csv('ua.test', sep='\\t', names=r_cols, encoding='latin-1')\n",
        "\n",
        "ratings_train.shape, ratings_test.shape"
      ],
      "execution_count": null,
      "outputs": [
        {
          "output_type": "execute_result",
          "data": {
            "text/plain": [
              "((53219, 4), (9430, 4))"
            ]
          },
          "metadata": {
            "tags": []
          },
          "execution_count": 24
        }
      ]
    },
    {
      "cell_type": "markdown",
      "metadata": {
        "id": "bH7NxjZDNEC8"
      },
      "source": [
        "#3. Building the Similarity based filtering model.\n",
        "\n",
        "Why Similarity?(Above)\n",
        "\n",
        "* We will recommend movies based on user-user similarity and item-item similarity and will try to evaluate the model based on the RMSE."
      ]
    },
    {
      "cell_type": "code",
      "metadata": {
        "colab": {
          "base_uri": "https://localhost:8080/"
        },
        "id": "3idfGYMrM4Cs",
        "outputId": "94080aba-e67f-430d-bd3e-8ddfe57c5a48"
      },
      "source": [
        "#1. calculating the number of unique users and movies.\n",
        "\n",
        "n_users = ratings.user_id.unique().shape[0]\n",
        "n_items = ratings.movie_id.unique().shape[0]\n",
        "\n",
        "print(n_users)\n",
        "print(n_items)"
      ],
      "execution_count": null,
      "outputs": [
        {
          "output_type": "stream",
          "text": [
            "943\n",
            "1682\n"
          ],
          "name": "stdout"
        }
      ]
    },
    {
      "cell_type": "code",
      "metadata": {
        "colab": {
          "base_uri": "https://localhost:8080/"
        },
        "id": "DtMs8TumOTVO",
        "outputId": "eb693b3b-a2f3-4799-b01d-a96b6cccd44d"
      },
      "source": [
        " #2. Creating a user-item matrix which can be used to calculate the similarity between users and items. \n",
        " #we will first initialize it with zeros array of shape 943 x 1643 having 943 users and 1643 movies.\n",
        "\n",
        "data_matrix = np.zeros((n_users, n_items))\n",
        "print(data_matrix.shape)"
      ],
      "execution_count": null,
      "outputs": [
        {
          "output_type": "stream",
          "text": [
            "(943, 1682)\n"
          ],
          "name": "stdout"
        }
      ]
    },
    {
      "cell_type": "code",
      "metadata": {
        "colab": {
          "base_uri": "https://localhost:8080/"
        },
        "id": "tVUgvybmRf0F",
        "outputId": "6af6ab87-8a28-4682-aae9-ff1d4113059c"
      },
      "source": [
        "#3. Filling the user-item matrix with corresponding ratings. Matrix would be sparse.\n",
        "\n",
        "for index in ratings.itertuples():\n",
        "  data_matrix[index[1]-1, index[2]-1] = index[3]\n",
        "\n",
        "#itertuples() method will return an iterator yielding a named tuple for each row in the DataFrame. \n",
        "#The first element of the tuple will be the row’s corresponding index value, \n",
        "#while the remaining values are the row values.\n",
        "\n",
        "#Note: in ratings dataset (user_id, movie_id) is unique.\n",
        "\n",
        "data_matrix"
      ],
      "execution_count": null,
      "outputs": [
        {
          "output_type": "execute_result",
          "data": {
            "text/plain": [
              "array([[5., 3., 4., ..., 0., 0., 0.],\n",
              "       [4., 0., 0., ..., 0., 0., 0.],\n",
              "       [0., 0., 0., ..., 0., 0., 0.],\n",
              "       ...,\n",
              "       [5., 0., 0., ..., 0., 0., 0.],\n",
              "       [0., 0., 0., ..., 0., 0., 0.],\n",
              "       [0., 5., 0., ..., 0., 0., 0.]])"
            ]
          },
          "metadata": {
            "tags": []
          },
          "execution_count": 38
        }
      ]
    },
    {
      "cell_type": "code",
      "metadata": {
        "colab": {
          "base_uri": "https://localhost:8080/"
        },
        "id": "5DtrvHYDURJq",
        "outputId": "cf510762-9089-4512-d364-2b76af4334c3"
      },
      "source": [
        "#4. Calculating the similarity. \n",
        "#We can use the pairwise_distance function from sklearn to calculate the cosine similarity.\n",
        "\n",
        "from sklearn.metrics.pairwise import pairwise_distances\n",
        "\n",
        "#USER-USER Similarity\n",
        "user_similarity = pairwise_distances(data_matrix, metric='cosine')\n",
        "\n",
        "#ITEM-ITEM Similarity\n",
        "item_similarity = pairwise_distances(data_matrix.T, metric='cosine')\n",
        "\n",
        "#This gives us the item-item and user-user similarity in an array form.\n",
        "#cosine similarity can range from ‘0’ to ‘1’ and ‘1’ means highest similarity, \n",
        "\n",
        "item_similarity"
      ],
      "execution_count": null,
      "outputs": [
        {
          "output_type": "execute_result",
          "data": {
            "text/plain": [
              "array([[0.        , 0.59761782, 0.66975521, ..., 1.        , 0.95281693,\n",
              "        0.95281693],\n",
              "       [0.59761782, 0.        , 0.72693082, ..., 1.        , 0.92170064,\n",
              "        0.92170064],\n",
              "       [0.66975521, 0.72693082, 0.        , ..., 1.        , 1.        ,\n",
              "        0.90312495],\n",
              "       ...,\n",
              "       [1.        , 1.        , 1.        , ..., 0.        , 1.        ,\n",
              "        1.        ],\n",
              "       [0.95281693, 0.92170064, 1.        , ..., 1.        , 0.        ,\n",
              "        1.        ],\n",
              "       [0.95281693, 0.92170064, 0.90312495, ..., 1.        , 1.        ,\n",
              "        0.        ]])"
            ]
          },
          "metadata": {
            "tags": []
          },
          "execution_count": 46
        }
      ]
    },
    {
      "cell_type": "markdown",
      "metadata": {
        "id": "7q9Y9jFqXtOf"
      },
      "source": [
        "* sklearn.metrics.pairwise_distances()\n",
        "\n",
        "This method takes either a vector array or a distance matrix, and returns a distance matrix. If the input is a vector array, the distances are computed. If the input is a distances matrix, it is returned instead.\n",
        "\n",
        "This method provides a safe way to take a distance matrix as input, while preserving compatibility with many other algorithms that take a vector array.\n",
        "Valid values for metric are:\n",
        "\n",
        "* From scikit-learn: \n",
        "\n",
        "* [‘cityblock’, ‘cosine’, ‘euclidean’, ‘l1’, ‘l2’, ‘manhattan’]. These metrics support sparse matrix inputs. \n",
        "\n",
        "* [‘nan_euclidean’] but it does not yet support sparse matrices."
      ]
    },
    {
      "cell_type": "code",
      "metadata": {
        "colab": {
          "base_uri": "https://localhost:8080/"
        },
        "id": "KLPn9l1XWh9W",
        "outputId": "9268d3a4-5a43-4cfb-f9cc-c8fde7db3a4e"
      },
      "source": [
        "print(user_similarity.shape)\n",
        "print(item_similarity.shape)"
      ],
      "execution_count": null,
      "outputs": [
        {
          "output_type": "stream",
          "text": [
            "(943, 943)\n",
            "(1682, 1682)\n"
          ],
          "name": "stdout"
        }
      ]
    },
    {
      "cell_type": "code",
      "metadata": {
        "id": "IfJtBY6EW127"
      },
      "source": [
        "#5. Making predictions based on these similarities.\n",
        "\n",
        "def predict(ratings, similarity, type='user'):\n",
        "  if type == 'user':\n",
        "    mean_user_rating = ratings.mean(axis=1).reshape(-1,1)  #We use np.newaxis so that mean_user_rating has same format as ratings\n",
        "    #we are taking mean of axis=1 (rows)\n",
        "\n",
        "    ratings_diff = (ratings - mean_user_rating)\n",
        "    pred = mean_user_rating + similarity.dot(ratings_diff) / np.array([np.abs(similarity).sum(axis=1)]).T\n",
        "\n",
        "  elif type == 'item':\n",
        "    pred = ratings.dot(similarity) / np.array([np.abs(similarity).sum(axis=1)])\n",
        "\n",
        "  return pred\n"
      ],
      "execution_count": null,
      "outputs": []
    },
    {
      "cell_type": "markdown",
      "metadata": {
        "id": "W4q_AVlPpGH6"
      },
      "source": [
        "##How UESR-USER similarity based RS works?\n",
        "\n",
        "1. Finds the similarity score between users.\n",
        "2. Based on this similarity score, it then picks out the most similar users and recommends products which these similar users have liked or bought previously.\n",
        "\n",
        "* The prediction of an item for a user u is calculated by computing the weighted sum of the user ratings given by other users to an item i.\n",
        "\n",
        "* The prediction Pu,i is given by:\n",
        "\n",
        "\n",
        "\n",
        "> ![image.png](data:image/png;base64,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)\n",
        "\n",
        "\n",
        "\n",
        "Here,\n",
        "\n",
        "* Pu,i is the prediction of an item\n",
        "* Rv,i is the rating given by a user v to a movie i\n",
        "* Su,v is the similarity between users\n",
        "\n",
        "Now, we have the ratings for users in profile vector and based on that we have to predict the ratings for other users.\n",
        "\n",
        "1. For predictions we need the similarity between the user u and v. We can make use of Pearson correlation.\n",
        "\n",
        "2. First we find the items rated by both the users and based on the ratings, correlation between the users is calculated.\n",
        "\n",
        "3. The predictions can be calculated using the similarity values. This algorithm, first of all calculates the similarity between each user and then based on each similarity calculates the predictions. Users having higher correlation will tend to be similar.\n",
        "\n",
        "4. Based on these prediction values, recommendations are made. \n",
        "\n",
        "https://medium.com/@lope.ai/recommendation-systems-from-scratch-in-python-pytholabs-6946491e76c2"
      ]
    },
    {
      "cell_type": "markdown",
      "metadata": {
        "id": "Y1tLHmYDHGKV"
      },
      "source": [
        "#How ITEM-ITEM similaruty based RS works?\n",
        "\n",
        "* Here we Compute the similarity between each pair of items.\n",
        "* This algorithm works similar to user-user collaborative filtering with just a little change — instead of taking the weighted sum of ratings of “user-neighbors”, we take the weighted sum of ratings of “item-neighbors”. \n",
        "\n",
        "The prediction is given by:\n",
        "\n",
        "![image.png](data:image/png;base64,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)\n",
        "\n"
      ]
    },
    {
      "cell_type": "code",
      "metadata": {
        "colab": {
          "base_uri": "https://localhost:8080/"
        },
        "id": "nvn1Yr7Lj5cF",
        "outputId": "f2c01fb7-d26a-491c-d622-6778207b174e"
      },
      "source": [
        "user_prediction = predict(data_matrix, user_similarity, type='user')\n",
        "print('USER-USER Similarity\\n')\n",
        "print('RMSE: ', np.sqrt(np.sum((data_matrix - user_prediction)**2)/data_matrix.size))"
      ],
      "execution_count": null,
      "outputs": [
        {
          "output_type": "stream",
          "text": [
            "USER-USER Similarity\n",
            "\n",
            "RMSE:  0.8299073588614706\n"
          ],
          "name": "stdout"
        }
      ]
    },
    {
      "cell_type": "code",
      "metadata": {
        "colab": {
          "base_uri": "https://localhost:8080/"
        },
        "id": "TQwUcBeclyQv",
        "outputId": "7ffbcda6-6a97-4220-f1af-4616e443925e"
      },
      "source": [
        "item_prediction = predict(data_matrix, item_similarity, type='item')\n",
        "print('ITEM-ITEM Similarity\\n')\n",
        "print('RMSE: ', np.sqrt(np.sum((data_matrix - item_prediction)**2)/data_matrix.size))"
      ],
      "execution_count": null,
      "outputs": [
        {
          "output_type": "stream",
          "text": [
            "ITEM-ITEM Similarity\n",
            "\n",
            "RMSE:  0.8917591527347898\n"
          ],
          "name": "stdout"
        }
      ]
    },
    {
      "cell_type": "code",
      "metadata": {
        "colab": {
          "base_uri": "https://localhost:8080/"
        },
        "id": "KVO9WfZ_muMS",
        "outputId": "3792a001-269e-4fb9-e0ba-9c87ae653614"
      },
      "source": [
        "item_prediction"
      ],
      "execution_count": null,
      "outputs": [
        {
          "output_type": "execute_result",
          "data": {
            "text/plain": [
              "array([[0.44627765, 0.475473  , 0.50593755, ..., 0.58815455, 0.5731069 ,\n",
              "        0.56669645],\n",
              "       [0.10854432, 0.13295661, 0.12558851, ..., 0.13445801, 0.13657587,\n",
              "        0.13711081],\n",
              "       [0.08568497, 0.09169006, 0.08764343, ..., 0.08465892, 0.08976784,\n",
              "        0.09084451],\n",
              "       ...,\n",
              "       [0.03230047, 0.0450241 , 0.04292449, ..., 0.05302764, 0.0519099 ,\n",
              "        0.05228033],\n",
              "       [0.15777917, 0.17409459, 0.18900003, ..., 0.19979296, 0.19739388,\n",
              "        0.20003117],\n",
              "       [0.24767207, 0.24489212, 0.28263031, ..., 0.34410424, 0.33051406,\n",
              "        0.33102478]])"
            ]
          },
          "metadata": {
            "tags": []
          },
          "execution_count": 60
        }
      ]
    },
    {
      "cell_type": "markdown",
      "metadata": {
        "id": "Dw9jkdKlIsQM"
      },
      "source": [
        "#what will happen if a new user or a new item is added in the dataset? \n",
        "\n",
        "* This situation is called a Cold Start. \n",
        "* There can be two types of cold start:\n",
        "\n",
        "\n",
        "```\n",
        "1. Visitor Cold Start\n",
        "2. Product Cold Start\n",
        "```\n",
        "\n",
        "##What is Visitor Cold start?\n",
        "* Visitor Cold Start means that a new user is introduced in the dataset. Since there is no history of that user, the system does not know the preferences of that user. It becomes harder to recommend products to that user. \n",
        "\n",
        "##How can we solve thE problem of Visitor Cold start?\n",
        "*  One basic approach could be to apply a popularity based strategy, i.e. recommend the most popular products. These can be determined by what has been popular recently overall or regionally. Once we know the preferences of the user, recommending products will be easier.\n",
        "\n",
        "##What is Product Cold start?\n",
        "* Product Cold Start means that a new product is launched in the market or added to the system. User action is most important to determine the value of any product. More the interaction a product receives, the easier it is for our model to recommend that product to the right user. \n",
        "\n",
        "##How can we solve the problem of Product Cold start?\n",
        "* We can make use of Content based filtering to solve this problem. The system first uses the content of the new product for recommendations and then eventually the user actions on that product."
      ]
    }
  ]
}