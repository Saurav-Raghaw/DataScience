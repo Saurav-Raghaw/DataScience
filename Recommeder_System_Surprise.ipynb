{
  "nbformat": 4,
  "nbformat_minor": 0,
  "metadata": {
    "colab": {
      "name": "Recommeder System- Surprise.ipynb",
      "provenance": [],
      "authorship_tag": "ABX9TyOgE2NIxkK27+g7tt4CNAZK",
      "include_colab_link": true
    },
    "kernelspec": {
      "name": "python3",
      "display_name": "Python 3"
    },
    "language_info": {
      "name": "python"
    }
  },
  "cells": [
    {
      "cell_type": "markdown",
      "metadata": {
        "id": "view-in-github",
        "colab_type": "text"
      },
      "source": [
        "<a href=\"https://colab.research.google.com/github/Saurav-Raghaw/DataScience/blob/main/Recommeder_System_Surprise.ipynb\" target=\"_parent\"><img src=\"https://colab.research.google.com/assets/colab-badge.svg\" alt=\"Open In Colab\"/></a>"
      ]
    },
    {
      "cell_type": "markdown",
      "metadata": {
        "id": "Z52J6ePONVDh"
      },
      "source": [
        "#Surprise: Recommender System"
      ]
    },
    {
      "cell_type": "markdown",
      "metadata": {
        "id": "DQXR1Gs7LTh7"
      },
      "source": [
        "#Importing Liabraries.\n"
      ]
    },
    {
      "cell_type": "code",
      "metadata": {
        "colab": {
          "base_uri": "https://localhost:8080/"
        },
        "id": "VDAiLSoxK8L9",
        "outputId": "3339c25c-2a35-472d-ecbc-a97580764ac8"
      },
      "source": [
        "!pip install surprise "
      ],
      "execution_count": null,
      "outputs": [
        {
          "output_type": "stream",
          "text": [
            "Collecting surprise\n",
            "  Downloading https://files.pythonhosted.org/packages/61/de/e5cba8682201fcf9c3719a6fdda95693468ed061945493dea2dd37c5618b/surprise-0.1-py2.py3-none-any.whl\n",
            "Collecting scikit-surprise\n",
            "\u001b[?25l  Downloading https://files.pythonhosted.org/packages/97/37/5d334adaf5ddd65da99fc65f6507e0e4599d092ba048f4302fe8775619e8/scikit-surprise-1.1.1.tar.gz (11.8MB)\n",
            "\u001b[K     |████████████████████████████████| 11.8MB 227kB/s \n",
            "\u001b[?25hRequirement already satisfied: joblib>=0.11 in /usr/local/lib/python3.7/dist-packages (from scikit-surprise->surprise) (1.0.1)\n",
            "Requirement already satisfied: numpy>=1.11.2 in /usr/local/lib/python3.7/dist-packages (from scikit-surprise->surprise) (1.19.5)\n",
            "Requirement already satisfied: scipy>=1.0.0 in /usr/local/lib/python3.7/dist-packages (from scikit-surprise->surprise) (1.4.1)\n",
            "Requirement already satisfied: six>=1.10.0 in /usr/local/lib/python3.7/dist-packages (from scikit-surprise->surprise) (1.15.0)\n",
            "Building wheels for collected packages: scikit-surprise\n",
            "  Building wheel for scikit-surprise (setup.py) ... \u001b[?25l\u001b[?25hdone\n",
            "  Created wheel for scikit-surprise: filename=scikit_surprise-1.1.1-cp37-cp37m-linux_x86_64.whl size=1617618 sha256=70bd4dd167617f33ad9e2c8c931793860f14ff5a75cda6402150fb575a470018\n",
            "  Stored in directory: /root/.cache/pip/wheels/78/9c/3d/41b419c9d2aff5b6e2b4c0fc8d25c538202834058f9ed110d0\n",
            "Successfully built scikit-surprise\n",
            "Installing collected packages: scikit-surprise, surprise\n",
            "Successfully installed scikit-surprise-1.1.1 surprise-0.1\n"
          ],
          "name": "stdout"
        }
      ]
    },
    {
      "cell_type": "code",
      "metadata": {
        "id": "J_HAA8yaLaOj"
      },
      "source": [
        "from surprise import SVD\n",
        "from surprise import Dataset\n",
        "from surprise.model_selection import cross_validate # it only takes a few lines of code to run a cross-validation procedure."
      ],
      "execution_count": null,
      "outputs": []
    },
    {
      "cell_type": "markdown",
      "metadata": {
        "id": "tPTQvdIjLdkv"
      },
      "source": [
        "##About surprise:\n",
        "\n",
        "* Surprise is a Python scikit for building and analyzing recommender systems that deal with explicit rating data.\n",
        "\n",
        "* We can use both built-in datasets (Movielens, Jester), and our own custom datasets.\n",
        "\n",
        "* This module provide various ready-to-use prediction algorithms such as baseline algorithms, neighborhood methods, matrix factorization-based ( SVD, PMF, SVD++, NMF), and many others. Also, various similarity measures (cosine, MSD, pearson…) are built-in.\n",
        "\n",
        "* The name SurPRISE (roughly :) stands for Simple Python RecommendatIon System Engine.\n",
        "\n",
        "* Please note that surprise does not support implicit ratings or content-based information.\n",
        "\n",
        "* https://surprise.readthedocs.io/en/stable/getting_started.html\n",
        "\n"
      ]
    },
    {
      "cell_type": "markdown",
      "metadata": {
        "id": "3z9bPY85Lkas"
      },
      "source": [
        "##1.Loading the Dataset."
      ]
    },
    {
      "cell_type": "code",
      "metadata": {
        "colab": {
          "base_uri": "https://localhost:8080/"
        },
        "id": "MpclC_yFLbCo",
        "outputId": "e30a57b6-ec64-4976-e047-45d5d3945617"
      },
      "source": [
        "# Load the movielens-100k dataset (download it if needed),\n",
        "data = Dataset.load_builtin('ml-100k')\n",
        "\n",
        "#The load_builtin() method will offer to download the movielens-100k dataset if it has not already been downloaded."
      ],
      "execution_count": null,
      "outputs": [
        {
          "output_type": "stream",
          "text": [
            "Dataset ml-100k could not be found. Do you want to download it? [Y/n] y\n",
            "Trying to download dataset from http://files.grouplens.org/datasets/movielens/ml-100k.zip...\n",
            "Done! Dataset ml-100k has been saved to /root/.surprise_data/ml-100k\n"
          ],
          "name": "stdout"
        }
      ]
    },
    {
      "cell_type": "code",
      "metadata": {
        "id": "tvxZa9PnN-X_"
      },
      "source": [
        "#SVD algorithm may choose other algorithms also.\n",
        "algo = SVD()\n",
        "\n",
        "# algo = KNNBasic()"
      ],
      "execution_count": null,
      "outputs": []
    },
    {
      "cell_type": "code",
      "metadata": {
        "colab": {
          "base_uri": "https://localhost:8080/"
        },
        "id": "jDMzdoV3OCj4",
        "outputId": "54aa34f1-751d-4ea3-86a0-2574f8a549a7"
      },
      "source": [
        "# Run 5-fold cross-validation and print results\n",
        "cross_validate(algo, data, measures=['RMSE', 'MAE'], cv=5, verbose=True)\n",
        "\n",
        "#The cross_validate() function runs a cross-validation procedure according to the cv argument, and computes some accuracy measures."
      ],
      "execution_count": null,
      "outputs": [
        {
          "output_type": "stream",
          "text": [
            "Evaluating RMSE, MAE of algorithm SVD on 5 split(s).\n",
            "\n",
            "                  Fold 1  Fold 2  Fold 3  Fold 4  Fold 5  Mean    Std     \n",
            "RMSE (testset)    0.9367  0.9366  0.9395  0.9291  0.9347  0.9353  0.0035  \n",
            "MAE (testset)     0.7378  0.7359  0.7387  0.7338  0.7368  0.7366  0.0017  \n",
            "Fit time          5.01    4.99    5.06    4.92    4.91    4.98    0.06    \n",
            "Test time         0.18    0.26    0.24    0.18    0.24    0.22    0.03    \n"
          ],
          "name": "stdout"
        },
        {
          "output_type": "execute_result",
          "data": {
            "text/plain": [
              "{'fit_time': (5.009145736694336,\n",
              "  4.990138530731201,\n",
              "  5.060184955596924,\n",
              "  4.917062759399414,\n",
              "  4.907081604003906),\n",
              " 'test_mae': array([0.73775614, 0.73592771, 0.738676  , 0.7338218 , 0.73676448]),\n",
              " 'test_rmse': array([0.93674705, 0.93664724, 0.9395076 , 0.92905269, 0.93466287]),\n",
              " 'test_time': (0.1794724464416504,\n",
              "  0.2647058963775635,\n",
              "  0.2437272071838379,\n",
              "  0.18080997467041016,\n",
              "  0.23756837844848633)}"
            ]
          },
          "metadata": {
            "tags": []
          },
          "execution_count": 5
        }
      ]
    },
    {
      "cell_type": "markdown",
      "metadata": {
        "id": "funAHsbmQz2E"
      },
      "source": [
        "##Train-test split and the fit() method.\n",
        "\n",
        "* If we don’t want to run a full cross-validation procedure, we can use the train_test_split() to sample a trainset and a testset with given sizes, and use the accuracy metric of our choice."
      ]
    },
    {
      "cell_type": "code",
      "metadata": {
        "id": "ul2_-6EfPWSG"
      },
      "source": [
        "from surprise import accuracy\n",
        "from surprise.model_selection import train_test_split"
      ],
      "execution_count": null,
      "outputs": []
    },
    {
      "cell_type": "code",
      "metadata": {
        "id": "Sq3kLr_DToTU"
      },
      "source": [
        "# sample random trainset and testset\n",
        "# test set is made of 25% of the ratings.\n",
        "\n",
        "trainset, testset = train_test_split(data, test_size=.25)"
      ],
      "execution_count": null,
      "outputs": []
    },
    {
      "cell_type": "code",
      "metadata": {
        "id": "IaXR9Dn9UJTS"
      },
      "source": [
        "# Training of the algorithm on the trainset, and predict ratings for the testset.\n",
        "\n",
        "algo.fit(trainset)\n",
        "predictions = algo.test(testset)\n",
        "\n",
        "#Training and Testing together.\n",
        "#predictions = algo.fit(trainset).test(testset)"
      ],
      "execution_count": null,
      "outputs": []
    },
    {
      "cell_type": "code",
      "metadata": {
        "colab": {
          "base_uri": "https://localhost:8080/"
        },
        "id": "UI2EABPOUY2N",
        "outputId": "c967f9e8-c9f3-4776-f42f-d6fd10ec9ac4"
      },
      "source": [
        "# RMSE\n",
        "accuracy.rmse(predictions)"
      ],
      "execution_count": null,
      "outputs": [
        {
          "output_type": "stream",
          "text": [
            "RMSE: 0.9408\n"
          ],
          "name": "stdout"
        },
        {
          "output_type": "execute_result",
          "data": {
            "text/plain": [
              "0.9408175468343966"
            ]
          },
          "metadata": {
            "tags": []
          },
          "execution_count": 14
        }
      ]
    },
    {
      "cell_type": "markdown",
      "metadata": {
        "id": "sdUR1FShVzEV"
      },
      "source": [
        "##Train on a whole trainset and the predict() method.\n",
        "\n",
        "* We can simply fit our algorithm to the whole dataset, rather than running cross-validation.\n",
        "* This can be done by using the build_full_trainset() method which will build a trainset object.\n"
      ]
    },
    {
      "cell_type": "code",
      "metadata": {
        "id": "6o9ptJUZUfh2"
      },
      "source": [
        "from surprise import KNNBasic\n"
      ],
      "execution_count": null,
      "outputs": []
    },
    {
      "cell_type": "code",
      "metadata": {
        "id": "LA7X5NOfW_iZ"
      },
      "source": [
        "# Retrieve the trainset.\n",
        "trainset = data.build_full_trainset()"
      ],
      "execution_count": null,
      "outputs": []
    },
    {
      "cell_type": "code",
      "metadata": {
        "colab": {
          "base_uri": "https://localhost:8080/"
        },
        "id": "Fo1_pZbuXCGN",
        "outputId": "e184f7ed-c5ed-42f5-accf-df50f85ac039"
      },
      "source": [
        "# Build an algorithm, and train it.\n",
        "\n",
        "algo = KNNBasic()\n",
        "algo.fit(trainset)"
      ],
      "execution_count": null,
      "outputs": [
        {
          "output_type": "stream",
          "text": [
            "Computing the msd similarity matrix...\n",
            "Done computing similarity matrix.\n"
          ],
          "name": "stdout"
        },
        {
          "output_type": "execute_result",
          "data": {
            "text/plain": [
              "<surprise.prediction_algorithms.knns.KNNBasic at 0x7f47514f5590>"
            ]
          },
          "metadata": {
            "tags": []
          },
          "execution_count": 9
        }
      ]
    },
    {
      "cell_type": "code",
      "metadata": {
        "colab": {
          "base_uri": "https://localhost:8080/"
        },
        "id": "gAZgNKyWXHuf",
        "outputId": "98d7c12b-8446-4fbb-8a85-0e0c033c9fd0"
      },
      "source": [
        "#We can now predict ratings by directly calling the predict() method. \n",
        "#user 196\n",
        "#item 302\n",
        "#true rating rui=4.\n",
        "\n",
        "uid = str(196)  # raw user id (as in the ratings file). They are **strings**!\n",
        "iid = str(302)  # raw item id (as in the ratings file). They are **strings**!\n",
        "\n",
        "# get a prediction for specific users and items.\n",
        "pred = algo.predict(uid, iid, r_ui=4, verbose=True) #The predict() uses raw ids."
      ],
      "execution_count": null,
      "outputs": [
        {
          "output_type": "stream",
          "text": [
            "user: 196        item: 302        r_ui = 4.00   est = 4.06   {'actual_k': 40, 'was_impossible': False}\n"
          ],
          "name": "stdout"
        }
      ]
    },
    {
      "cell_type": "markdown",
      "metadata": {
        "id": "0S-COycoYvKB"
      },
      "source": [
        "#Building the RS Model Using Custom Dataset.\n",
        "\n",
        "* Loading a rating dataset can be done either from a file (e.g. a csv file), or from a pandas dataframe. \n",
        "* Either way, we will need to define a Reader object for Surprise to be able to parse the file or the dataframe.\n",
        "\n",
        "* To load a dataset from a file (e.g. a csv file), we will need the load_from_file() method.\n",
        "\n"
      ]
    },
    {
      "cell_type": "code",
      "metadata": {
        "id": "4aOoddyaZqwm"
      },
      "source": [
        "import os\n",
        "from surprise import BaselineOnly\n",
        "from surprise import Dataset\n",
        "from surprise import Reader\n",
        "from surprise.model_selection import cross_validate"
      ],
      "execution_count": null,
      "outputs": []
    },
    {
      "cell_type": "code",
      "metadata": {
        "id": "vDegVdVoeGLs"
      },
      "source": [
        "# As we're loading a custom dataset, we need to define a reader. In the\n",
        "# movielens-100k dataset, each line has the following format:\n",
        "# 'user item rating timestamp', separated by '\\t' characters.\n",
        "\n",
        "reader = Reader(line_format='user item rating timestamp', sep='\\t')"
      ],
      "execution_count": null,
      "outputs": []
    },
    {
      "cell_type": "code",
      "metadata": {
        "id": "yzUj0tQyeUXV"
      },
      "source": [
        "data = Dataset.load_from_file('/content/u.data', reader=reader)"
      ],
      "execution_count": null,
      "outputs": []
    },
    {
      "cell_type": "code",
      "metadata": {
        "colab": {
          "base_uri": "https://localhost:8080/"
        },
        "id": "ZHfOhg43eYtc",
        "outputId": "6a74bf9a-fb80-492f-d5a2-a979c8bbe0a1"
      },
      "source": [
        "# We can now use this dataset as we please, e.g. calling cross_validate\n",
        "cross_validate(BaselineOnly(), data, verbose=True)\n",
        "\n",
        "#https://surprise.readthedocs.io/en/stable/basic_algorithms.html"
      ],
      "execution_count": null,
      "outputs": [
        {
          "output_type": "stream",
          "text": [
            "Estimating biases using als...\n",
            "Estimating biases using als...\n",
            "Estimating biases using als...\n",
            "Estimating biases using als...\n",
            "Estimating biases using als...\n",
            "Evaluating RMSE, MAE of algorithm BaselineOnly on 5 split(s).\n",
            "\n",
            "                  Fold 1  Fold 2  Fold 3  Fold 4  Fold 5  Mean    Std     \n",
            "RMSE (testset)    0.9520  0.9441  0.9345  0.9498  0.9380  0.9437  0.0067  \n",
            "MAE (testset)     0.7557  0.7494  0.7375  0.7542  0.7442  0.7482  0.0067  \n",
            "Fit time          0.63    0.44    0.43    0.44    0.46    0.48    0.07    \n",
            "Test time         0.25    0.11    0.20    0.12    0.11    0.16    0.06    \n"
          ],
          "name": "stdout"
        },
        {
          "output_type": "execute_result",
          "data": {
            "text/plain": [
              "{'fit_time': (0.6259043216705322,\n",
              "  0.43619251251220703,\n",
              "  0.4311187267303467,\n",
              "  0.4371979236602783,\n",
              "  0.4615774154663086),\n",
              " 'test_mae': array([0.75574315, 0.74936406, 0.73753562, 0.75415727, 0.7441604 ]),\n",
              " 'test_rmse': array([0.95201347, 0.94409266, 0.93447313, 0.94976495, 0.93796566]),\n",
              " 'test_time': (0.24997425079345703,\n",
              "  0.10508298873901367,\n",
              "  0.2003333568572998,\n",
              "  0.1164541244506836,\n",
              "  0.1079111099243164)}"
            ]
          },
          "metadata": {
            "tags": []
          },
          "execution_count": 14
        }
      ]
    },
    {
      "cell_type": "markdown",
      "metadata": {
        "id": "YaPneBrhiter"
      },
      "source": [
        "# Loading a Dataset from a pandas Dataframe."
      ]
    },
    {
      "cell_type": "code",
      "metadata": {
        "id": "ooBx7hwQezvn"
      },
      "source": [
        "#load_from_df() method.\n",
        "\n",
        "import pandas as pd\n",
        "\n",
        "from surprise import NormalPredictor\n",
        "from surprise import Dataset\n",
        "from surprise import Reader\n",
        "from surprise.model_selection import cross_validate"
      ],
      "execution_count": null,
      "outputs": []
    },
    {
      "cell_type": "code",
      "metadata": {
        "colab": {
          "base_uri": "https://localhost:8080/",
          "height": 204
        },
        "id": "Kw79GaqTjoIm",
        "outputId": "51df3a68-99f2-43d7-bfa6-355dd71c464a"
      },
      "source": [
        "r_cols = ['user_id', 'movie_id', 'rating', 'unix_timestamp']\n",
        "\n",
        "df = pd.read_csv('u.data', sep='\\t', names=r_cols,encoding='latin-1')\n",
        "df.head()"
      ],
      "execution_count": null,
      "outputs": [
        {
          "output_type": "execute_result",
          "data": {
            "text/html": [
              "<div>\n",
              "<style scoped>\n",
              "    .dataframe tbody tr th:only-of-type {\n",
              "        vertical-align: middle;\n",
              "    }\n",
              "\n",
              "    .dataframe tbody tr th {\n",
              "        vertical-align: top;\n",
              "    }\n",
              "\n",
              "    .dataframe thead th {\n",
              "        text-align: right;\n",
              "    }\n",
              "</style>\n",
              "<table border=\"1\" class=\"dataframe\">\n",
              "  <thead>\n",
              "    <tr style=\"text-align: right;\">\n",
              "      <th></th>\n",
              "      <th>user_id</th>\n",
              "      <th>movie_id</th>\n",
              "      <th>rating</th>\n",
              "      <th>unix_timestamp</th>\n",
              "    </tr>\n",
              "  </thead>\n",
              "  <tbody>\n",
              "    <tr>\n",
              "      <th>0</th>\n",
              "      <td>196</td>\n",
              "      <td>242</td>\n",
              "      <td>3</td>\n",
              "      <td>881250949</td>\n",
              "    </tr>\n",
              "    <tr>\n",
              "      <th>1</th>\n",
              "      <td>186</td>\n",
              "      <td>302</td>\n",
              "      <td>3</td>\n",
              "      <td>891717742</td>\n",
              "    </tr>\n",
              "    <tr>\n",
              "      <th>2</th>\n",
              "      <td>22</td>\n",
              "      <td>377</td>\n",
              "      <td>1</td>\n",
              "      <td>878887116</td>\n",
              "    </tr>\n",
              "    <tr>\n",
              "      <th>3</th>\n",
              "      <td>244</td>\n",
              "      <td>51</td>\n",
              "      <td>2</td>\n",
              "      <td>880606923</td>\n",
              "    </tr>\n",
              "    <tr>\n",
              "      <th>4</th>\n",
              "      <td>166</td>\n",
              "      <td>346</td>\n",
              "      <td>1</td>\n",
              "      <td>886397596</td>\n",
              "    </tr>\n",
              "  </tbody>\n",
              "</table>\n",
              "</div>"
            ],
            "text/plain": [
              "   user_id  movie_id  rating  unix_timestamp\n",
              "0      196       242       3       881250949\n",
              "1      186       302       3       891717742\n",
              "2       22       377       1       878887116\n",
              "3      244        51       2       880606923\n",
              "4      166       346       1       886397596"
            ]
          },
          "metadata": {
            "tags": []
          },
          "execution_count": 28
        }
      ]
    },
    {
      "cell_type": "code",
      "metadata": {
        "colab": {
          "base_uri": "https://localhost:8080/"
        },
        "id": "VxXTvsMIn0Gc",
        "outputId": "eefa845a-a969-46d4-d54d-e7ea61a80ef7"
      },
      "source": [
        "df.info()"
      ],
      "execution_count": null,
      "outputs": [
        {
          "output_type": "stream",
          "text": [
            "<class 'pandas.core.frame.DataFrame'>\n",
            "RangeIndex: 100000 entries, 0 to 99999\n",
            "Data columns (total 4 columns):\n",
            " #   Column          Non-Null Count   Dtype\n",
            "---  ------          --------------   -----\n",
            " 0   user_id         100000 non-null  int64\n",
            " 1   movie_id        100000 non-null  int64\n",
            " 2   rating          100000 non-null  int64\n",
            " 3   unix_timestamp  100000 non-null  int64\n",
            "dtypes: int64(4)\n",
            "memory usage: 3.1 MB\n"
          ],
          "name": "stdout"
        }
      ]
    },
    {
      "cell_type": "code",
      "metadata": {
        "id": "QyUb3WYfkWzA"
      },
      "source": [
        "# A reader is still needed but only the rating_scale param is requiered.\n",
        "reader = Reader(rating_scale=(1, 5))"
      ],
      "execution_count": null,
      "outputs": []
    },
    {
      "cell_type": "code",
      "metadata": {
        "id": "YE4rmrselFnH"
      },
      "source": [
        "# The columns must correspond to user id, item id and ratings (in that order).\n",
        "data = Dataset.load_from_df(df[['user_id', 'movie_id', 'rating']], reader)"
      ],
      "execution_count": null,
      "outputs": []
    },
    {
      "cell_type": "code",
      "metadata": {
        "colab": {
          "base_uri": "https://localhost:8080/"
        },
        "id": "YaMiyhrtlTPP",
        "outputId": "3940816b-4489-408c-e439-226c54ccb5d9"
      },
      "source": [
        "# We can now use this dataset as we please, e.g. calling cross_validate\n",
        "cross_validate(NormalPredictor(), data, cv=2)"
      ],
      "execution_count": null,
      "outputs": [
        {
          "output_type": "execute_result",
          "data": {
            "text/plain": [
              "{'fit_time': (0.08648490905761719, 0.11916112899780273),\n",
              " 'test_mae': array([1.22570948, 1.22118597]),\n",
              " 'test_rmse': array([1.52599025, 1.51941042]),\n",
              " 'test_time': (0.5021884441375732, 0.47644853591918945)}"
            ]
          },
          "metadata": {
            "tags": []
          },
          "execution_count": 32
        }
      ]
    },
    {
      "cell_type": "code",
      "metadata": {
        "colab": {
          "base_uri": "https://localhost:8080/"
        },
        "id": "VQDVFT2SlYZU",
        "outputId": "38b9567c-0eb7-46c3-cb59-36e196ce88dd"
      },
      "source": [
        "algo = SVD()\n",
        "cross_validate(algo, data, measures=['RMSE', 'MAE'], cv=5, verbose=True)"
      ],
      "execution_count": null,
      "outputs": [
        {
          "output_type": "stream",
          "text": [
            "Evaluating RMSE, MAE of algorithm SVD on 5 split(s).\n",
            "\n",
            "                  Fold 1  Fold 2  Fold 3  Fold 4  Fold 5  Mean    Std     \n",
            "RMSE (testset)    0.9299  0.9370  0.9348  0.9340  0.9434  0.9358  0.0044  \n",
            "MAE (testset)     0.7339  0.7390  0.7378  0.7373  0.7430  0.7382  0.0029  \n",
            "Fit time          4.86    4.84    4.79    4.80    4.80    4.82    0.03    \n",
            "Test time         0.16    0.26    0.17    0.25    0.26    0.22    0.05    \n"
          ],
          "name": "stdout"
        },
        {
          "output_type": "execute_result",
          "data": {
            "text/plain": [
              "{'fit_time': (4.85735559463501,\n",
              "  4.837671518325806,\n",
              "  4.788275718688965,\n",
              "  4.798793077468872,\n",
              "  4.797749042510986),\n",
              " 'test_mae': array([0.73389366, 0.73896972, 0.73777651, 0.7372644 , 0.74300308]),\n",
              " 'test_rmse': array([0.92987027, 0.93697374, 0.93479232, 0.93400538, 0.94342304]),\n",
              " 'test_time': (0.15524673461914062,\n",
              "  0.2642784118652344,\n",
              "  0.1736288070678711,\n",
              "  0.2541377544403076,\n",
              "  0.2642521858215332)}"
            ]
          },
          "metadata": {
            "tags": []
          },
          "execution_count": 33
        }
      ]
    },
    {
      "cell_type": "code",
      "metadata": {
        "colab": {
          "base_uri": "https://localhost:8080/"
        },
        "id": "YAkiiUZzmAiR",
        "outputId": "14202515-b256-4469-dc04-e438c01734ce"
      },
      "source": [
        "#We can now predict ratings by directly calling the predict() method. \n",
        "#user 196\n",
        "#item 302\n",
        "#true rating rui=4.\n",
        "\n",
        "uid = 166  # raw user id: here uid is integer.\n",
        "iid = 346  # raw item id: here iid is also integer.\n",
        "\n",
        "# get a prediction for specific users and items.\n",
        "pred = algo.predict(uid, iid, r_ui=1, verbose=True) #The predict() uses raw ids."
      ],
      "execution_count": null,
      "outputs": [
        {
          "output_type": "stream",
          "text": [
            "user: 166        item: 346        r_ui = 1.00   est = 3.73   {'was_impossible': False}\n"
          ],
          "name": "stdout"
        }
      ]
    },
    {
      "cell_type": "code",
      "metadata": {
        "colab": {
          "base_uri": "https://localhost:8080/"
        },
        "id": "3WcfVVaZmch7",
        "outputId": "f8191266-0b90-4bf3-e6a9-fd5dc6a19cd6"
      },
      "source": [
        "algo = KNNBasic()\n",
        "cross_validate(algo, data, measures=['RMSE', 'MAE'], cv=5, verbose=True)"
      ],
      "execution_count": null,
      "outputs": [
        {
          "output_type": "stream",
          "text": [
            "Computing the msd similarity matrix...\n",
            "Done computing similarity matrix.\n",
            "Computing the msd similarity matrix...\n",
            "Done computing similarity matrix.\n",
            "Computing the msd similarity matrix...\n",
            "Done computing similarity matrix.\n",
            "Computing the msd similarity matrix...\n",
            "Done computing similarity matrix.\n",
            "Computing the msd similarity matrix...\n",
            "Done computing similarity matrix.\n",
            "Evaluating RMSE, MAE of algorithm KNNBasic on 5 split(s).\n",
            "\n",
            "                  Fold 1  Fold 2  Fold 3  Fold 4  Fold 5  Mean    Std     \n",
            "RMSE (testset)    0.9740  0.9811  0.9761  0.9812  0.9833  0.9791  0.0035  \n",
            "MAE (testset)     0.7687  0.7772  0.7709  0.7725  0.7766  0.7732  0.0033  \n",
            "Fit time          0.61    0.54    0.47    0.45    0.49    0.51    0.06    \n",
            "Test time         4.63    5.01    3.90    3.93    3.90    4.27    0.46    \n"
          ],
          "name": "stdout"
        },
        {
          "output_type": "execute_result",
          "data": {
            "text/plain": [
              "{'fit_time': (0.6117043495178223,\n",
              "  0.5368187427520752,\n",
              "  0.47462034225463867,\n",
              "  0.4498016834259033,\n",
              "  0.4903712272644043),\n",
              " 'test_mae': array([0.76868022, 0.7771888 , 0.77093734, 0.77249274, 0.77659225]),\n",
              " 'test_rmse': array([0.97403091, 0.98108918, 0.9760672 , 0.98120657, 0.98330198]),\n",
              " 'test_time': (4.630460977554321,\n",
              "  5.012627124786377,\n",
              "  3.8999826908111572,\n",
              "  3.928605556488037,\n",
              "  3.8999552726745605)}"
            ]
          },
          "metadata": {
            "tags": []
          },
          "execution_count": 36
        }
      ]
    },
    {
      "cell_type": "code",
      "metadata": {
        "colab": {
          "base_uri": "https://localhost:8080/"
        },
        "id": "0Z1hIUU_mrJu",
        "outputId": "1a9f4b44-bb30-4b33-de66-c987cbfafaef"
      },
      "source": [
        "#We can now predict ratings by directly calling the predict() method. \n",
        "#user 196\n",
        "#item 302\n",
        "#true rating rui=4.\n",
        "\n",
        "uid = 196  # raw user id: integer\n",
        "iid = 302  # raw item id: integer\n",
        "\n",
        "# get a prediction for specific users and items.\n",
        "pred = algo.predict(uid, iid, r_ui=4, verbose=True) #The predict() uses raw ids."
      ],
      "execution_count": null,
      "outputs": [
        {
          "output_type": "stream",
          "text": [
            "user: 196        item: 302        r_ui = 4.00   est = 3.89   {'actual_k': 40, 'was_impossible': False}\n"
          ],
          "name": "stdout"
        }
      ]
    },
    {
      "cell_type": "markdown",
      "metadata": {
        "id": "htaf_Cglo2cd"
      },
      "source": [
        "##Cross-validation iterators.\n",
        "* For cross-validation, we can use the cross_validate() function.\n",
        "\n",
        "* For a better control, we can also instanciate a cross-validation iterator, and make predictions over each split using the split() method of the iterator, and the test() method of the algorithm."
      ]
    },
    {
      "cell_type": "code",
      "metadata": {
        "id": "yRLtlo8gm4gk"
      },
      "source": [
        "#classical K-fold cross-validation procedure with 3 splits.\n",
        "\n",
        "from surprise import SVD\n",
        "from surprise import Dataset\n",
        "from surprise import accuracy\n",
        "from surprise.model_selection import KFold"
      ],
      "execution_count": null,
      "outputs": []
    },
    {
      "cell_type": "code",
      "metadata": {
        "id": "oQRZQmF9rgqJ"
      },
      "source": [
        "# Loading the movielens-100k dataset\n",
        "data = Dataset.load_builtin('ml-100k')"
      ],
      "execution_count": null,
      "outputs": []
    },
    {
      "cell_type": "code",
      "metadata": {
        "id": "NNqvn6JWr2jq"
      },
      "source": [
        "# defining a cross-validation iterator\n",
        "kf = KFold(n_splits=3)"
      ],
      "execution_count": null,
      "outputs": []
    },
    {
      "cell_type": "code",
      "metadata": {
        "id": "8Orj_-iXr60z"
      },
      "source": [
        "algo = SVD()"
      ],
      "execution_count": null,
      "outputs": []
    },
    {
      "cell_type": "code",
      "metadata": {
        "colab": {
          "base_uri": "https://localhost:8080/"
        },
        "id": "nHomJ8eQr-VW",
        "outputId": "cf0ffde1-099e-4835-fa66-07961c58951c"
      },
      "source": [
        "for trainset, testset in kf.split(data):\n",
        "\n",
        "  # train and test algorithm.\n",
        "  algo.fit(trainset)\n",
        "  predictions = algo.test(testset)\n",
        "\n",
        "  # Compute and print Root Mean Squared Error\n",
        "  accuracy.rmse(predictions, verbose=True)"
      ],
      "execution_count": null,
      "outputs": [
        {
          "output_type": "stream",
          "text": [
            "RMSE: 0.9523\n",
            "RMSE: 0.9419\n",
            "RMSE: 0.9445\n"
          ],
          "name": "stdout"
        }
      ]
    },
    {
      "cell_type": "code",
      "metadata": {
        "id": "wWtBuAM_EXch"
      },
      "source": [
        ""
      ],
      "execution_count": null,
      "outputs": []
    }
  ]
}